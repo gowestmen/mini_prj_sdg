{
 "cells": [
  {
   "cell_type": "markdown",
   "id": "5cdd5465",
   "metadata": {},
   "source": [
    "# 🗺️**Understanding Sustainable Development Goals through maps**  \n",
    "## Exploring the role of map generalisation"
   ]
  },
  {
   "cell_type": "markdown",
   "id": "4e7ff398",
   "metadata": {},
   "source": [
    "The aim of this Notebook is to present some **map generalization techniques** (i.e. transforming the cartographic representation of entities to reduce map complexity), which are essential when mapping a phenomenon at different scales. \n",
    "- Most of the techniques presented are based on **CartAGen**, which is :\n",
    "\n",
    "    - an **open source Python library** made by **IGN** (i.e the french national mapping agency) researchers\n",
    "    - a tool to carry out cartographic generalization processes and **automate** them\n",
    "    - a **QGIS plugin** to use the Python library in a GIS environment \n",
    "\n",
    "- 🔗 **Useful links** : \n",
    "    - [Library repository](https://github.com/LostInZoom/cartagen4py?tab=readme-ov-file) \n",
    "    - [QGIS Plugin](https://plugins.qgis.org/plugins/cartagen4qgis/#plugin-details)\n",
    "    - [CartAGen documentation](https://cartagen.readthedocs.io/en/latest/)\n",
    "    - [UN Sustainable Development Goals](https://sdgs.un.org/goals)\n",
    "\n",
    "_by Paul Bourcier, 2025 - EUPL 1.2_ "
   ]
  },
  {
   "cell_type": "markdown",
   "id": "134691aa",
   "metadata": {},
   "source": [
    "## ⚙️ **Part 0 :** Preparing the working environment"
   ]
  },
  {
   "cell_type": "code",
   "execution_count": 1,
   "id": "abf3b768",
   "metadata": {},
   "outputs": [],
   "source": [
    "# Importing libraries\n",
    "\n",
    "import cartagen as cg # the main library, containing cartographic generalization algorithms\n",
    "\n",
    "#geographic data manipulation \n",
    "import geopandas as gp # used to import and manipulate geographic data\n",
    "\n",
    "#displaying the data\n",
    "from matplotlib import pyplot as plt # for ploting results, especially maps\n",
    "#from mpl_toolkits.axes_grid1.anchored_artists import AnchoredSizeBar # adding scalebar to the maps\n",
    "#import matplotlib.colors as matcol # generating color palettes\n",
    "#from matplotlib.path import Path  # Plot generation\n",
    "#from matplotlib.patches import PathPatch # Plot generation\n",
    "#from mpl_toolkits.axisartist.axislines import Subplot # Plot generation\n",
    "#import matplotlib.colors as mcolors #generating colors \n",
    "#import matplotlib.cm as cm #used to display colorbar\n",
    "#import contextily as ctx # Adding basemaps\n",
    "\n",
    "#creating interactive outputs\n",
    "import ipywidgets # creation of interactive plots\n",
    "#import pydeck as pdk #deck.gl in Python for interactive maps\n",
    "#import json #manipulating dictionnaries\n",
    "#import ipyleaflet #creates interactive maps\n",
    "\n",
    "# other data manipulation\n",
    "#import pandas as pd # used to concatenate datas\n",
    "import numpy as np # Using mathematical operations in Python\n",
    "#from sklearn import cluster #clustering methods\n"
   ]
  },
  {
   "cell_type": "markdown",
   "id": "bb6b0b5b",
   "metadata": {},
   "source": [
    "## 📈 **Part 1 :** Maps and SDGs : the example of the Gini index"
   ]
  },
  {
   "cell_type": "markdown",
   "id": "ad4c78ab",
   "metadata": {},
   "source": [
    "🧠 To understand the SDGs and how to achieve it, one must understand some **indicators**. Let's take the example of SDG n°10 : _\"Reduce inequality within and among countries\"_.\n",
    "\n",
    "The **Gini index** is a key indicator for understanding this objective, as it measures the way in which a **resource** (notably disposable income) is **distributed** among the inhabitants of a country or region. It ranges from **0** (perfect equality) to **1** (no equality).\n",
    "\n",
    "Gini index is derived from the **Lorenz's cruve**. Before diving into maps, let's take a closer look to it."
   ]
  },
  {
   "cell_type": "code",
   "execution_count": 24,
   "id": "dd7dddbd",
   "metadata": {},
   "outputs": [
    {
     "data": {
      "text/plain": [
       "[<matplotlib.lines.Line2D at 0x2721d336fd0>]"
      ]
     },
     "execution_count": 24,
     "metadata": {},
     "output_type": "execute_result"
    },
    {
     "data": {
      "image/png": "[encoded data removed]",
      "text/plain": [
       "<Figure size 600x600 with 1 Axes>"
      ]
     },
     "metadata": {},
     "output_type": "display_data"
    }
   ],
   "source": [
    "# First, retrieve all the income of a population. Here we build an artificial value sample, representing our income.\n",
    "income = np.array([2, 10, 24, 4, 7, 800, 56, 32, 1, 5, 46, 78, 336])  \n",
    "# Let's populate our array of value thanks to numpy functions, as it enable to get a bigger sample more quickly\n",
    "income = np.append(np.random.poisson(lam=10, size=40), np.random.poisson(lam=100, size=10)) #here we use Poisson random to draw. We could use another function\n",
    "\n",
    "# Secondly, we must sort our income, from lowest to highest\n",
    "income = np.sort(income)\n",
    "\n",
    "# Thirdly, we convert our values into cummulated proportions\n",
    "income = income.cumsum() / income.sum()\n",
    "# we then had 0 as our first value\n",
    "income = np.insert(income,0,0)\n",
    "\n",
    "# We now compute the cummulated proportions of people/household in our population\n",
    "pop = np.arange(income.size)/(income.size-1)\n",
    "\n",
    "# Finally, we can display the Lorenz cruve, that shows the distribution of income by the population\n",
    "fig, ax = plt.subplots(figsize=[6,6])\n",
    "ax.scatter(pop , income, marker='x', color='darkgreen', s=100)\n",
    "## We had a line representing perfect equality\n",
    "ax.plot([0,1], [0,1])\n"
   ]
  },
  {
   "cell_type": "markdown",
   "id": "3d8864b6",
   "metadata": {},
   "source": [
    "📈 The x axis represent the **cummulated proportion of household** (sorted by income) while the y axis shows the **cummulated proportion of the income**. In this situation, approximatly **80%** of the poorest holds less than **30%** of the income, which is a clear inequality. On the contrary, the straight line is showing the **perfect equality situation**, were **80%** of the poorest holds **80%** of the income.\n",
    "\n",
    "The Gini index correspond to the area between the Lorenz curve and the straight line representing perfect equality. It is also possible to compute it with this formula :\n",
    "$$\n",
    "Gini = \\frac{2 \\sum_{i=1}^{n} i \\times y_i}{n \\sum_{i=1}^{n} y_i} - \\frac{n + 1}{n}\n",
    "$$\n",
    "A weighted sum of the income is divided by the sum of the income, and normalized by substracting a constant. "
   ]
  },
  {
   "cell_type": "code",
   "execution_count": null,
   "id": "3bddcac4",
   "metadata": {},
   "outputs": [
    {
     "name": "stdout",
     "output_type": "stream",
     "text": [
      "Gini index : 0.5341311565250086\n"
     ]
    }
   ],
   "source": [
    "# Let's compute the Gini index of our first example\n",
    "coef_ = 2. / income.size #numerator part 1\n",
    "weighted_sum = sum([(i+1)*yi for i, yi in enumerate(income)]) #numerator part 2\n",
    "const_ = (income.size + 1.) / income.size #constant\n",
    "\n",
    "gini = coef_*weighted_sum/(income.sum()) - const_\n",
    "print(\"Gini index : \" + str(gini))"
   ]
  },
  {
   "cell_type": "markdown",
   "id": "ff8f5b67",
   "metadata": {},
   "source": [
    "Here an animation to seize the effect on Lorenz curve on Gini index"
   ]
  },
  {
   "cell_type": "code",
   "execution_count": 44,
   "id": "94b8b179",
   "metadata": {},
   "outputs": [
    {
     "data": {
      "application/vnd.jupyter.widget-view+json": {
       "model_id": "2b7a0ca31fdb49b18c2036d625242e33",
       "version_major": 2,
       "version_minor": 0
      },
      "text/plain": [
       "interactive(children=(IntSlider(value=50, description='income_diff'), Output()), _dom_classes=('widget-interac…"
      ]
     },
     "metadata": {},
     "output_type": "display_data"
    },
    {
     "data": {
      "text/plain": [
       "<function __main__.plt_gini_lorenz(income_diff)>"
      ]
     },
     "execution_count": 44,
     "metadata": {},
     "output_type": "execute_result"
    }
   ],
   "source": [
    "def plt_gini_lorenz(income_diff):\n",
    "    incm = np.append(np.random.poisson(lam=10, size=50), np.random.poisson(lam=income_diff, size=50))\n",
    "    incm = np.sort(incm)\n",
    "    incm = incm.cumsum() / incm.sum()\n",
    "    incm = np.insert(incm,0,0)\n",
    "    popu = np.arange(incm.size)/(incm.size-1)\n",
    "\n",
    "    gini = (2. / incm.size)*sum([(i+1)*yi for i, yi in enumerate(incm)])/(incm.sum()) - ((incm.size + 1.) / incm.size) \n",
    "\n",
    "    fig, ax = plt.subplots(figsize=[6,6])\n",
    "    ax.scatter(popu , incm, marker='x', color='darkgreen', s=100) \n",
    "    ax.plot([0,1], [0,1], color='k')\n",
    "    ax.text(0.35, 0.8, f'Gini index : {round(gini,2)}', fontsize=12, color='red', ha='right')\n",
    "\n",
    "\n",
    "ipywidgets.interact(plt_gini_lorenz, income_diff = (0, 100, 1))"
   ]
  }
 ],
 "metadata": {
  "kernelspec": {
   "display_name": ".venv",
   "language": "python",
   "name": "python3"
  },
  "language_info": {
   "codemirror_mode": {
    "name": "ipython",
    "version": 3
   },
   "file_extension": ".py",
   "mimetype": "text/x-python",
   "name": "python",
   "nbconvert_exporter": "python",
   "pygments_lexer": "ipython3",
   "version": "3.13.3"
  }
 },
 "nbformat": 4,
 "nbformat_minor": 5
}
