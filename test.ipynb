{
 "cells": [
  {
   "cell_type": "markdown",
   "id": "5cdd5465",
   "metadata": {},
   "source": [
    "# 🗺️**Understanding Sustainable Development Goals through maps**  \n",
    "## Exploring the role of map generalisation"
   ]
  },
  {
   "cell_type": "markdown",
   "id": "4e7ff398",
   "metadata": {},
   "source": [
    "The aim of this Notebook is to present some **map generalization techniques** (i.e. transforming the cartographic representation of entities to reduce map complexity), which are essential when mapping a phenomenon at different scales. \n",
    "- Some of the techniques presented are based on **CartAGen**, which is :\n",
    "\n",
    "    - an **open source Python library** made by **IGN** (i.e the french national mapping agency) researchers\n",
    "    - a tool to carry out cartographic generalization processes and **automate** them\n",
    "    - a **QGIS plugin** to use the Python library in a GIS environment \n",
    "\n",
    "- 🔗 **Useful links** : \n",
    "    - [Library repository](https://github.com/LostInZoom/cartagen4py?tab=readme-ov-file) \n",
    "    - [QGIS Plugin](https://plugins.qgis.org/plugins/cartagen4qgis/#plugin-details)\n",
    "    - [CartAGen documentation](https://cartagen.readthedocs.io/en/latest/)\n",
    "    - [UN Sustainable Development Goals](https://sdgs.un.org/goals)\n",
    "\n",
    "_by Paul Bourcier, 2025 - EUPL 1.2_ "
   ]
  },
  {
   "cell_type": "markdown",
   "id": "134691aa",
   "metadata": {},
   "source": [
    "## ⚙️ **Part 0 :** Preparing the working environment"
   ]
  },
  {
   "cell_type": "code",
   "execution_count": null,
   "id": "abf3b768",
   "metadata": {},
   "outputs": [],
   "source": [
    "# Importing libraries\n",
    "\n",
    "import cartagen as cg # the main library, containing cartographic generalization algorithms\n",
    "\n",
    "#geographic data manipulation \n",
    "import geopandas as gp # used to import and manipulate geographic data\n",
    "from shapely.geometry import Polygon, MultiPolygon # manipulation of geometries\n",
    "from shapely.ops import transform #\n",
    "\n",
    "#displaying the data\n",
    "from matplotlib import pyplot as plt # for ploting results, especially maps\n",
    "from mpl_toolkits.axes_grid1.anchored_artists import AnchoredSizeBar # adding scalebar to the maps\n",
    "#import matplotlib.colors as matcol # generating color palettes\n",
    "#from matplotlib.path import Path  # Plot generation\n",
    "#from matplotlib.patches import PathPatch # Plot generation\n",
    "#from mpl_toolkits.axisartist.axislines import Subplot # Plot generation\n",
    "#import matplotlib.colors as mcolors #generating colors \n",
    "#import matplotlib.cm as cm #used to display colorbar\n",
    "import contextily as ctx # Adding basemaps\n",
    "import mapclassify # Choropletes maps\n",
    "import branca.colormap # linear color palettes for maps\n",
    "\n",
    "#creating interactive outputs\n",
    "import ipywidgets # creation of interactive plots\n",
    "import pydeck as pdk #deck.gl in Python for interactive maps\n",
    "from IPython.display import display, HTML #display interactive content\n",
    "#import json #manipulating dictionnaries\n",
    "import ipyleaflet #creates interactive maps\n",
    "\n",
    "# other data manipulation\n",
    "import pandas as pd # used to manipulate flat datas\n",
    "import numpy as np # Using mathematical operations in Python\n",
    "import json # manipulation of json files\n",
    "#from sklearn import cluster #clustering methods\n",
    "\n",
    "import warnings # Remove warnings\n",
    "warnings.filterwarnings(\"ignore\", category=UserWarning, message=\"Numba not installed. Using slow pure python version.\") # Remove user warning \n"
   ]
  },
  {
   "cell_type": "markdown",
   "id": "bb6b0b5b",
   "metadata": {},
   "source": [
    "## 📈 **Part 1 :** Maps and SDGs : the example of the Gini index"
   ]
  },
  {
   "cell_type": "markdown",
   "id": "ad4c78ab",
   "metadata": {},
   "source": [
    "🧠 To understand the SDGs and how to achieve them, we need to understand certain **indicators**. Let's take the example of SDG #10: _“Reduce inequality within and among countries”_.\n",
    "\n",
    "The **Gini** index is a key indicator for understanding this goal, as it measures how a **resource** (notably disposable income) is **distributed** among the inhabitants of a country or region. It ranges from **0** (perfect equality) to **1** (no equality).\n",
    "\n",
    "The Gini index is derived from the **Lorenz curve**. Before we dive into the maps, let's take a closer look."
   ]
  },
  {
   "cell_type": "markdown",
   "id": "1b2fe722",
   "metadata": {},
   "source": [
    "### **1.1** Gini index and Lorenz curve principle\n",
    "\n",
    "The code used in this section does mainly comes from this [webpage](https://zhiyzuo.github.io/Plot-Lorenz/)"
   ]
  },
  {
   "cell_type": "code",
   "execution_count": null,
   "id": "dd7dddbd",
   "metadata": {},
   "outputs": [],
   "source": [
    "# First, we need to recover all the income of a population. Here, we construct a sample of artificial values, representing our income.\n",
    "income = np.array([2, 10, 24, 4, 7, 800, 56, 32, 1, 5, 46, 78, 336])  \n",
    "# Let's fill in our table of values using numpy functions, which allow us to obtain a larger sample more quickly.\n",
    "income = np.append(np.random.poisson(lam=10, size=40), np.random.poisson(lam=100, size=10)) #Here, we use the Poisson random function for the draw. We could use another function\n",
    "\n",
    "# Secondly, we must sort our income, from lowest to highest\n",
    "income = np.sort(income)\n",
    "\n",
    "# Third, we convert our values into cumulative proportions\n",
    "income = income.cumsum() / income.sum()\n",
    "# We then add 0 as the first value\n",
    "income = np.insert(income,0,0)\n",
    "\n",
    "# We now calculate the cumulative proportions of households in our population\n",
    "pop = np.arange(income.size)/(income.size-1)\n",
    "\n",
    "# Finally, we can display the Lorenz curve, which shows the distribution of cumulative incomes and households with these incomes.\n",
    "fig, ax = plt.subplots(figsize=[6,6])\n",
    "ax.scatter(pop , income, marker='x', color='darkgreen', s=100)\n",
    "ax.plot([0,1], [0,1]) # We add a line representing perfect equality\n",
    "ax.set_xlabel('Cumulative proportion of households')\n",
    "ax.set_ylabel('Cumulative proportion of income')\n"
   ]
  },
  {
   "cell_type": "markdown",
   "id": "3d8864b6",
   "metadata": {},
   "source": [
    "📈 The x-axis represents the **cumulative proportion of households** (sorted by income), while the y-axis shows the **cumulative proportion of income**. In this situation, around **80%** of the poorest people hold less than **30%** of the income, which constitutes a clear inequality. In contrast, the straight line shows the **perfect equality** situation, where **80%** of the poorest hold **80%** of the income.\n",
    "\n",
    "The Gini index corresponds to the area between the Lorenz curve and the straight line representing perfect equality. It can also be calculated using the following formula:\n",
    "$$\n",
    "Gini = \\frac{2 \\sum_{i=1}^{n} i \\times y_i}{n \\sum_{i=1}^{n} y_i} - \\frac{n + 1}{n}\n",
    "$$\n",
    "\n",
    "This is a weighted sum of incomes, divided by the sum of incomes, and normalized by subtracting a constant."
   ]
  },
  {
   "cell_type": "code",
   "execution_count": null,
   "id": "3bddcac4",
   "metadata": {},
   "outputs": [],
   "source": [
    "# Let's calculate the Gini index for our first example\n",
    "coef_ = 2. / income.size # Numerator part 1\n",
    "weighted_sum = sum([(i+1)*yi for i, yi in enumerate(income)]) # Numerator part 2\n",
    "const_ = (income.size + 1.) / income.size # Constant\n",
    "\n",
    "gini = coef_*weighted_sum/(income.sum()) - const_\n",
    "print(\"Gini index : \" + str(gini))"
   ]
  },
  {
   "cell_type": "markdown",
   "id": "ff8f5b67",
   "metadata": {},
   "source": [
    "Here is an animation to illustrate the effect of the Lorenz curve on the Gini index"
   ]
  },
  {
   "cell_type": "code",
   "execution_count": null,
   "id": "94b8b179",
   "metadata": {},
   "outputs": [],
   "source": [
    "# Create a function that generates and displays Lorenz curve and Gini index\n",
    "def plt_gini_lorenz(income_diff):\n",
    "    # Generate a sample based on the income_diff argument\n",
    "    incm = np.append(np.random.poisson(lam=10, size=50), np.random.poisson(lam=income_diff, size=50)) \n",
    "    incm = np.sort(incm) # Sort the sample of income\n",
    "    incm = incm.cumsum() / incm.sum() # Convert it to proportions\n",
    "    incm = np.insert(incm,0,0) # Add a zero to our list\n",
    "    popu = np.arange(incm.size)/(incm.size-1) # Calculate a list of proportions of household\n",
    "\n",
    "    # Calculate Gini index based on the formula\n",
    "    gini = (2. / incm.size)*sum([(i+1)*yi for i, yi in enumerate(incm)])/(incm.sum()) - ((incm.size + 1.) / incm.size) \n",
    "\n",
    "    # Display the curve and the index\n",
    "    fig, ax = plt.subplots(figsize=[6,6])\n",
    "    ax.scatter(popu , incm, marker='x', color='darkgreen', s=100) \n",
    "    ax.plot([0,1], [0,1], color='k')\n",
    "    ax.text(0.35, 0.8, f'Gini index : {round(gini,2)}', fontsize=12, color='red', ha='right')\n",
    "\n",
    "# Execute function with ipywidgets to enable interactivity\n",
    "ipywidgets.interact(plt_gini_lorenz, income_diff = (0, 100, 1))"
   ]
  },
  {
   "cell_type": "markdown",
   "id": "1ec22b09",
   "metadata": {},
   "source": [
    "### **1.2** Spatializing the Gini index\n",
    "\n",
    "As a powerful indicator for measuring inequality, the Gini index is relevant for comparing situations between countries.\n",
    "\n",
    "Maps are well suited to quickly perform that comparison, by spatializing the index."
   ]
  },
  {
   "cell_type": "code",
   "execution_count": null,
   "id": "d27cacb4",
   "metadata": {},
   "outputs": [],
   "source": [
    "# Create and display a simple choropleth map\n",
    "gini_world = gp.read_file(\"data/gini_world.geojson\") # Load the data (i.e world country with a 'gini_index' column)\n",
    "\n",
    "ax = gini_world.plot(linewidth=0.5, zorder = 1, cmap = 'YlOrRd',\n",
    "                     edgecolor = 'black', column = 'gini_index', legend = True,\n",
    "                     alpha = 0.8, scheme='FisherJenks',\n",
    "                     legend_kwds ={'loc':'upper left','title': 'Gini index (most recent)'}, figsize= (12,12)) # Main layer\n",
    "\n",
    "# Optional elements\n",
    "ax.axes.get_xaxis().set_visible(False) # Remove x axis\n",
    "ax.axes.get_yaxis().set_visible(False) # Remove y axis\n",
    "\n",
    "ctx.add_basemap(ax,source=ctx.providers.CartoDB.Positron) # Basemap\n",
    "plt.title('Gini index in the world countries\\n') # Title"
   ]
  },
  {
   "cell_type": "markdown",
   "id": "686b130b",
   "metadata": {},
   "source": [
    "This map allows you to quickly compare the Gini index **across countries**. But the question of inequality does not only arise at **international level.** \n",
    "\n",
    "To show the spatiality of a phenomenon at different **scales**, cartographers have two options:\n",
    "- produce several maps at each chosen scale (**atlas**)\n",
    "- create a map that encompasses all the desired scales (**multi-scale map**).\n",
    "\n",
    "In this Notebook, we have chosen the second option"
   ]
  },
  {
   "cell_type": "markdown",
   "id": "e50a68a2",
   "metadata": {},
   "source": [
    "### **1.3** Gini index at local scale\n",
    "\n",
    "In this section, we will be using data from INSEE (a French public statistics institute), which includes Gini indices at the IRIS level (i.e. the smallest level available in France).\n",
    "\n",
    "*Unfortunately, Gini index values are only available for IRIS with more than 5,000 inhabitants.*"
   ]
  },
  {
   "cell_type": "code",
   "execution_count": null,
   "id": "03555500",
   "metadata": {},
   "outputs": [],
   "source": [
    "#Load the data as a json object\n",
    "gini_iris = open('data/gini_local.geojson') # Geographic data must be in .geojson format\n",
    "gini_iris = json.load(gini_iris)"
   ]
  },
  {
   "cell_type": "markdown",
   "id": "49f2e416",
   "metadata": {},
   "source": [
    "We are now going to build our first **multi-scale interactive map**. In this Notebook, we have chosen the **pydeck** library to do this.\n",
    "\n",
    "✔️It has the advantage of producing very **fluid** renderings (using vector tile technology).\n",
    "\n",
    "❌The drawback is that there are not many functions for **personalizing** the map."
   ]
  },
  {
   "cell_type": "code",
   "execution_count": null,
   "id": "12666bfa",
   "metadata": {},
   "outputs": [],
   "source": [
    "# Let's use the pydeck library to create an interactive map\n",
    "view_state = pdk.ViewState(longitude=2.354, latitude=48.865, zoom=13, bearing=0, pitch=0) # Position the initial view in the middle of Paris\n",
    "\n",
    "iris = pdk.Layer( # Creating the pydeck layer containing the IRIS  \n",
    "    'GeoJsonLayer', \n",
    "    gini_iris, # Json/dict containing the data\n",
    "    opacity=0.8,\n",
    "    stroked=True,\n",
    "    filled=True,\n",
    "    get_fill_color=['properties.gini_index < 0.25 ?  255 :'+\n",
    "    'properties.gini_index >= 0.25 && properties.gini_index < 0.3 ? 186 :'+\n",
    "    'properties.gini_index >= 0.3 && properties.gini_index < 0.4 ? 128 :'+ \n",
    "    'properties.gini_index >= 0.4 && properties.gini_index < 0.55 ? 64 :0,'+\n",
    "    'properties.gini_index < 0.25 ?  255 :'+\n",
    "    'properties.gini_index >= 0.25 && properties.gini_index < 0.3 ? 186 :'+\n",
    "    'properties.gini_index >= 0.3 && properties.gini_index < 0.4 ? 128 :'+ \n",
    "    'properties.gini_index >= 0.4 && properties.gini_index < 0.55 ? 64 :0, 255'], \n",
    "    # Here we use a javascript expression to manually create classes for fill colors\n",
    "    get_line_color=[0, 0, 0],\n",
    "    get_line_width = 10,\n",
    "    pickable=True\n",
    ")\n",
    "\n",
    "# Creating the map object\n",
    "r = pdk.Deck(layers=[iris], initial_view_state=view_state, tooltip={\"text\": \"{properties.gini_index}\\n{properties.iris_name}\"}) \n",
    "\n",
    "map1 = r.to_html()  # Store the map as a HTML object"
   ]
  },
  {
   "cell_type": "markdown",
   "id": "b912668b",
   "metadata": {},
   "source": [
    "⚙️ Pydeck does not natively offer functions for creating a **legend**. We therefore create a legend by directly modifying the HTML code of our map"
   ]
  },
  {
   "cell_type": "code",
   "execution_count": null,
   "id": "8d79cfa2",
   "metadata": {},
   "outputs": [],
   "source": [
    "# # Retrieve the content of out the HTML map as a string\n",
    "# map1_str = map1.data \n",
    "\n",
    "# # Prepare the HTML code of our legend\n",
    "# legend_html = \"\"\"\n",
    "# <div style=\"position: absolute; top: 20px; left: 20px; background-color: rgba(255, 255, 255, 0.8); padding: 10px; border-radius: 5px; font-family: Arial, sans-serif; font-size: 14px; color:rgb(10, 10, 10); z-index: 10;\">\n",
    "#   <div style=\"display: flex; align-items: center; margin-bottom: 5px;\">\n",
    "#     <div style=\"width: 20px; height: 20px; background-color: rgb(255, 255, 255); margin-right: 5px;\"></div>\n",
    "#     <span>Gini Index < 0.25</span>\n",
    "#   </div>\n",
    "#   <div style=\"display: flex; align-items: center; margin-bottom: 5px;\">\n",
    "#     <div style=\"width: 20px; height: 20px; background-color: rgb(186, 186, 255); margin-right: 5px;\"></div>\n",
    "#     <span>0.25 <= Gini Index < 0.3</span>\n",
    "#   </div>\n",
    "#   <div style=\"display: flex; align-items: center; margin-bottom: 5px;\">\n",
    "#     <div style=\"width: 20px; height: 20px; background-color: rgb(128, 128, 255); margin-right: 5px;\"></div>\n",
    "#     <span>0.3 <= Gini Index < 0.4</span>\n",
    "#   </div>\n",
    "#   <div style=\"display: flex; align-items: center; margin-bottom: 5px;\">\n",
    "#     <div style=\"width: 20px; height: 20px; background-color: rgb(64, 64, 255); margin-right: 5px;\"></div>\n",
    "#     <span>0.4 <= Gini Index < 0.55</span>\n",
    "#   </div>\n",
    "#   <div style=\"display: flex; align-items: center; margin-bottom: 5px;\">\n",
    "#     <div style=\"width: 20px; height: 20px; background-color: rgb(0, 0, 255); margin-right: 5px;\"></div>\n",
    "#     <span>Gini Index >= 0.55</span>\n",
    "#   </div>\n",
    "# </div>\n",
    "# \"\"\"\n",
    "\n",
    "# # Bind and display the legend and the map\n",
    "# display(HTML(map1_str + legend_html))"
   ]
  },
  {
   "cell_type": "markdown",
   "id": "5e9ff088",
   "metadata": {},
   "source": [
    "👓 This map is satisfactory for exploring the spatial distribution of the Gini index **across a city**. Taking Paris as an example, we can clearly see that the **center and west** of the city are less egalitarian in terms of living standards.\n",
    "\n",
    "However, zooming out to a broader level leads to problems of **legibility**. IRIS boundaries become too small, and the number of IRIS displayed tends to **overload** the map. In this case, the map needs to be **generalized**."
   ]
  },
  {
   "cell_type": "markdown",
   "id": "7957a6db",
   "metadata": {},
   "source": [
    "## 🛠 **Part 2 :** Map generalisation and multi-scale maps\n",
    "\n",
    "Reducing the **graphical complexity** of a map is essential to enable an efficient understanding of its **message**. It this Notebook, we propose **two** approaches to generalize our local gini index map. "
   ]
  },
  {
   "cell_type": "markdown",
   "id": "923c8922",
   "metadata": {},
   "source": [
    "### **2.1** Using one generalisation technique\n",
    "\n",
    "In this section, we will perform a generalisation method that consists in aggregating spatial entities in a regular grid."
   ]
  },
  {
   "cell_type": "markdown",
   "id": "43d3eb45",
   "metadata": {},
   "source": [
    "#### **2.1.1** Principle "
   ]
  },
  {
   "cell_type": "code",
   "execution_count": null,
   "id": "626b0d4e",
   "metadata": {},
   "outputs": [],
   "source": [
    "# Load the IRIS file as a GeoDataFrame and change to metric projection\n",
    "geo_gini_iris = gp.read_file('data/gini_local.geojson')\n",
    "geo_gini_iris.to_crs('EPSG:3857',inplace = True) \n",
    "\n",
    "# Calculte the centroid of each IRIS polygon\n",
    "for i in range(len(geo_gini_iris)):\n",
    "    geo_gini_iris.loc[i,\"centroid_coords\"] = geo_gini_iris.loc[i,\"geometry\"].centroid\n",
    "\n",
    "# Copy this layer and set the centroids as the geometry\n",
    "point_gini_iris = geo_gini_iris.copy()\n",
    "point_gini_iris = point_gini_iris.set_geometry(\"centroid_coords\")\n",
    "point_gini_iris = point_gini_iris.drop(columns=['geometry'])\n",
    "point_gini_iris.rename_geometry(\"geometry\", inplace = True)"
   ]
  },
  {
   "cell_type": "markdown",
   "id": "ee544006",
   "metadata": {},
   "source": [
    "We are now ready to perform the aggregation !"
   ]
  },
  {
   "cell_type": "code",
   "execution_count": null,
   "id": "7aac11d9",
   "metadata": {},
   "outputs": [],
   "source": [
    "# This is the code line to use Caratagen labelgrid_aggregation algorithm, which return a grid (as a GeoDataFrame) containing mean gini index values within each cell\n",
    "# (it also return a GeoDataFrame of points representing the center of each cell. We do not use it here).\n",
    "\n",
    "#point_agr_1 = cg.labelgrid_aggregation(point_gini_iris, 1500, 1500, column='gini_index', shape='square', grid=True)\n",
    "\n",
    "# As the computing time is very long because of the size of our dataset, we will load the result directly\n",
    "point_agr_1 = gp.read_file('data/point_agr_1.geojson')\n",
    "\n",
    "# Once loaded, we remove cell without values (i.e where no point was found)\n",
    "point_agr_1 = point_agr_1.dropna()\n",
    "# We then set the crs of our layer to 4326, as it is later needed to display it in pydeck\n",
    "point_agr_1.to_crs('EPSG:4326',inplace = True)\n",
    "\n",
    "# Export the layer as a .geojson file to open it in pydeck...\n",
    "point_agr_1.to_file(\"point_agr_1_ok.geojson\") \n",
    "# ...And load it as a json object\n",
    "gini_agr_1 = open('point_agr_1_ok.geojson')\n",
    "gini_agr_1 = json.load(gini_agr_1)\n"
   ]
  },
  {
   "cell_type": "code",
   "execution_count": null,
   "id": "6fe3c395",
   "metadata": {},
   "outputs": [],
   "source": [
    "# Let's use the pydeck library to create our 2nd interactive map\n",
    "view_state = pdk.ViewState(longitude=2.354, latitude=48.865, zoom=11, bearing=0, pitch=0) \n",
    "\n",
    "iris = pdk.Layer( # Creating the pydeck layer containing the IRIS  \n",
    "    'GeoJsonLayer', \n",
    "    gini_agr_1, # This time we load our aggregated data\n",
    "    opacity=0.8, stroked=True, filled=True, get_fill_color=['properties.gini_index_mean < 0.25 ?  255 :'+ 'properties.gini_index_mean >= 0.25 && properties.gini_index_mean < 0.3 ? 186 :'+ 'properties.gini_index_mean >= 0.3 && properties.gini_index_mean < 0.4 ? 128 :'+ 'properties.gini_index_mean >= 0.4 && properties.gini_index_mean < 0.55 ? 64 :0,'+'properties.gini_index_mean < 0.25 ?  255 :'+'properties.gini_index_mean >= 0.25 && properties.gini_index_mean < 0.3 ? 186 :'+'properties.gini_index_mean >= 0.3 && properties.gini_index_mean < 0.4 ? 128 :'+ 'properties.gini_index_mean >= 0.4 && properties.gini_index_mean < 0.55 ? 64 :0, 255'], get_line_color=[0, 0, 0],get_line_width = 25,pickable=True\n",
    ")\n",
    "\n",
    "# Creating the map object\n",
    "r = pdk.Deck(layers=[iris], initial_view_state=view_state, tooltip={\"text\": \"mean Gini index : {properties.gini_index_mean}\"}) \n",
    "\n",
    "r.to_html()  # Directly display the result"
   ]
  },
  {
   "cell_type": "markdown",
   "id": "17f06d04",
   "metadata": {},
   "source": [
    "With this more generalized representation of our data, it is easier to understand the distribution of the Gini index at a smaller scale.\n",
    "However, as the cells of the grid do not follow the administrative boundaries and hide the background map, it can be difficult to see where we are.\n",
    "\n",
    "Let's add a layer representing commune boundaries to our map"
   ]
  },
  {
   "cell_type": "code",
   "execution_count": null,
   "id": "b96f5540",
   "metadata": {},
   "outputs": [],
   "source": [
    "#Load the data as a json object\n",
    "communes_boundaries = open('data/communes_5.geojson') # Geographic data must be in .geojson format\n",
    "communes_boundaries = json.load(communes_boundaries)\n",
    "\n",
    "# We load another administrative layer, used later \n",
    "departments_boundaries = open('data/departements.geojson')\n",
    "departments_boundaries = json.load(departments_boundaries)"
   ]
  },
  {
   "cell_type": "code",
   "execution_count": null,
   "id": "4e22e327",
   "metadata": {},
   "outputs": [],
   "source": [
    "# 2nd map with administrative boundaries\n",
    "view_state = pdk.ViewState(longitude=2.354, latitude=48.865, zoom=11, bearing=0, pitch=0) # Position the initial view in the middle of Paris\n",
    "\n",
    "iris = pdk.Layer( 'GeoJsonLayer', gini_agr_1, opacity=0.8,stroked=True,filled=True,get_fill_color=['properties.gini_index_mean < 0.25 ?  255 :'+'properties.gini_index_mean >= 0.25 && properties.gini_index_mean < 0.3 ? 186 :'+'properties.gini_index_mean >= 0.3 && properties.gini_index_mean < 0.4 ? 128 :'+ 'properties.gini_index_mean >= 0.4 && properties.gini_index_mean < 0.55 ? 64 :0,'+'properties.gini_index_mean < 0.25 ?  255 :'+'properties.gini_index_mean >= 0.25 && properties.gini_index_mean < 0.3 ? 186 :'+'properties.gini_index_mean >= 0.3 && properties.gini_index_mean < 0.4 ? 128 :'+ 'properties.gini_index_mean >= 0.4 && properties.gini_index_mean < 0.55 ? 64 :0, 255'],  get_line_color=[0, 0, 0],get_line_width = 25,pickable=True)\n",
    "\n",
    "communes = pdk.Layer( # Creating the pydeck layer containing the communes boundaries \n",
    "    'GeoJsonLayer', \n",
    "    communes_boundaries, # Json/dict containing the data\n",
    "    stroked=True,\n",
    "    get_line_color=[255, 0, 0], # Red line\n",
    "    get_fill_color = [255,255,255,0], # Fill color with 0% of opacity, so we only see lines\n",
    "    get_line_width = 50\n",
    ")\n",
    "\n",
    "# Creating the map object\n",
    "r = pdk.Deck(layers=[iris, communes], initial_view_state=view_state, tooltip={\"text\": \"mean Gini index : {properties.gini_index_mean}\"}) \n",
    "\n",
    "r.to_html()  # Store the map as a HTML object"
   ]
  },
  {
   "cell_type": "markdown",
   "id": "a2066fc2",
   "metadata": {},
   "source": [
    "It is now way easier to undestand where the location of the map view is. This level of generalisation is good for comparing situation between several cities. \n",
    "\n",
    "\n",
    "Looking at Paris and the surrounding cities, we can see that inequalities are less important out of the capital, except some for communes in the west."
   ]
  },
  {
   "cell_type": "markdown",
   "id": "4dd5479f",
   "metadata": {},
   "source": [
    "#### **2.1.2** Multi-scale map of the Gini index using grid aggregation method"
   ]
  },
  {
   "cell_type": "markdown",
   "id": "37d7a170",
   "metadata": {},
   "source": [
    "We now want to create another even more generalised layer for our maps, to enable the reading of Gini index at smaller scale.\n",
    "\n",
    "We then combine those different graphical representation of our data in our multi-scale map."
   ]
  },
  {
   "cell_type": "code",
   "execution_count": null,
   "id": "b985598c",
   "metadata": {},
   "outputs": [],
   "source": [
    "#point_agr_2 = cg.labelgrid_aggregation(point_gini_iris, 6500, 6500, column='gini_index', shape='square', grid=True)\n",
    "\n",
    "# Again, let's directly import aggregated layer \n",
    "point_agr_2 = gp.read_file('data/point_agr_2.geojson')\n",
    "# Once loaded, we remove cell without values (i.e where no point was found)\n",
    "point_agr_2 = point_agr_2.dropna()\n",
    "# We then set the crs of our layer to 4326, as it is later needed to display it in pydeck\n",
    "point_agr_2.to_crs('EPSG:4326',inplace = True)\n",
    "\n",
    "# Export the layer as a .geojson file to open it in pydeck...\n",
    "point_agr_2.to_file(\"point_agr_2_ok.geojson\") \n",
    "# ...And load it as a json object\n",
    "gini_agr_2 = open('point_agr_2_ok.geojson')\n",
    "gini_agr_2 = json.load(gini_agr_2)"
   ]
  },
  {
   "cell_type": "markdown",
   "id": "2071335c",
   "metadata": {},
   "source": [
    "Unfortunatly, pydeck doesn't provide visibility control of layers depending on zoom level. Thus, we choose to create our map with the ipyleaflet library."
   ]
  },
  {
   "cell_type": "code",
   "execution_count": null,
   "id": "3fb5dd18",
   "metadata": {},
   "outputs": [],
   "source": [
    "# layer preparation\n",
    "# 1: open the layer of the IRIS as a json file\n",
    "gini_local = open('data/gini_local.geojson')\n",
    "gini_local = json.load(gini_local)\n",
    "\n",
    "# 2: extract the iris code and the gini index to form a dictionnary c\n",
    "lst_index = []\n",
    "for i in gini_local['features']:\n",
    "    lst_index.append(i['properties']['gini_index'])\n",
    "\n",
    "lst_id = []\n",
    "for i in gini_local['features']:\n",
    "    lst_id.append(i['properties']['iris_code'])\n",
    "\n",
    "gini_data = dict(zip(lst_id, lst_index))\n",
    "\n",
    "# 3: modify the IRIS json to add the iris code within the features\n",
    "for id, dico  in enumerate(gini_local['features']):\n",
    "    gini_local['features'][id].update({'id':dico['properties']['iris_code']})"
   ]
  },
  {
   "cell_type": "code",
   "execution_count": null,
   "id": "f3078997",
   "metadata": {},
   "outputs": [],
   "source": [
    "# We perform the same processings for the first aggregated grid\n",
    "lst_index = []\n",
    "for i in gini_agr_1['features']:\n",
    "    lst_index.append(i['properties']['gini_index_mean'])\n",
    "                                               \n",
    "lst_id = []\n",
    "for id, dico in enumerate(gini_agr_1['features']):\n",
    "    lst_id.append(id)\n",
    "\n",
    "gini_data_2 = dict(zip(lst_id, lst_index))\n",
    "\n",
    "for id, dico  in enumerate(gini_agr_1['features']):\n",
    "    gini_agr_1['features'][id].update({'id':id})"
   ]
  },
  {
   "cell_type": "code",
   "execution_count": null,
   "id": "01187b4b",
   "metadata": {},
   "outputs": [],
   "source": [
    "# We perform the same processings for the second aggregated grid\n",
    "lst_index = []\n",
    "for i in gini_agr_2['features']:\n",
    "    lst_index.append(i['properties']['gini_index_mean'])\n",
    "                                               \n",
    "lst_id = []\n",
    "for id, dico in enumerate(gini_agr_2['features']):\n",
    "    lst_id.append(id)\n",
    "\n",
    "gini_data_3 = dict(zip(lst_id, lst_index))\n",
    "\n",
    "for id, dico  in enumerate(gini_agr_2['features']):\n",
    "    gini_agr_2['features'][id].update({'id':id})"
   ]
  },
  {
   "cell_type": "markdown",
   "id": "6e648ab8",
   "metadata": {},
   "source": [
    "Our data are ready, let's build and display the multi-scale map ! (loading time can be up to 1 minute)"
   ]
  },
  {
   "cell_type": "code",
   "execution_count": null,
   "id": "cfceb256",
   "metadata": {},
   "outputs": [],
   "source": [
    "# 1: Create the map object\n",
    "m = ipyleaflet.Map(center=(48.8566, 2.3522), zoom=16,min_zoom =9, max_zoom = 18, basemap=ipyleaflet.basemaps.CartoDB.DarkMatter)\n",
    "\n",
    "\n",
    "# 2: Configure the color palette \n",
    "breaks = [0, 0.25, 0.3, 0.4, 0.55, 1]  \n",
    "colormap = branca.colormap.linear.Blues_09.scale(0.163, 0.784).to_step(index=breaks)\n",
    "\n",
    "\n",
    "# 3: Load datas as ipyleaflet layers\n",
    "iris_layer = ipyleaflet.Choropleth(\n",
    "    geo_data=gini_local, \n",
    "    choro_data=gini_data, # Geographic and thematic data are separated in the Choropleth class \n",
    "    key_on = 'id', # This id is used to link geo_data and choro_data\n",
    "    colormap=colormap,\n",
    "    border_color='black',\n",
    "    style={'fillOpacity': 0.8, 'dashArray': '5, 5'})\n",
    "\n",
    "grid_layer = ipyleaflet.Choropleth(geo_data=gini_agr_1, choro_data=gini_data_2, key_on = 'id', colormap=colormap, border_color='black', style={'fillOpacity': 0.8, 'dashArray': '5, 5'})\n",
    "\n",
    "grid2_layer = ipyleaflet.Choropleth(geo_data=gini_agr_2, choro_data=gini_data_3, key_on = 'id', colormap=colormap, border_color='black', style={'fillOpacity': 0.8, 'dashArray': '5, 5'})\n",
    "\n",
    "communes = ipyleaflet.GeoJSON(data=communes_boundaries, style={'opacity': 1, 'fillOpacity': 0, 'color':'red', 'weight':1}) # Load the administrative boundaries as well\n",
    "dep = ipyleaflet.GeoJSON(data=departments_boundaries,style={'opacity': 1, 'fillOpacity': 0, 'color':'red', 'weight':1})\n",
    "\n",
    "\n",
    "# 4: Create a function to load/unload layer on the map, depending on zoom level\n",
    "def on_zoom_change(event):\n",
    "    if m.zoom >= 13: \n",
    "        if len(m.layers[1].choro_data) < 10000: # Verify if the loaded layer is the NOT one with more than 10 000 entities (i.e the iris layer)\n",
    "            if len(m.layers) > 2: \n",
    "                m.remove_layer(m.layers[1])\n",
    "                m.remove_layer(m.layers[1])\n",
    "            else:\n",
    "                m.remove_layer(m.layers[1])\n",
    "            m.add(iris_layer) \n",
    "  \n",
    "    elif m.zoom < 13 and m.zoom > 10:\n",
    "        if len(m.layers[1].choro_data) < 2000 or len(m.layers[1].choro_data) > 10000: # Verify if the loaded layer is the NOT the intermediary grid layer\n",
    "            if len(m.layers) > 2:\n",
    "                m.remove_layer(m.layers[1])\n",
    "                m.remove_layer(m.layers[1])\n",
    "            else:\n",
    "                m.remove_layer(m.layers[1])\n",
    "            m.add(grid_layer) \n",
    "            m.add(communes)\n",
    "    else:\n",
    "        if len(m.layers[1].choro_data) > 2000:  # Verify if the loaded layer is the NOT the second grid layer\n",
    "            m.remove_layer(m.layers[1])\n",
    "            m.remove_layer(m.layers[1])\n",
    "            m.add(grid2_layer)\n",
    "            m.add(dep)\n",
    "         \n",
    "# 5: Use the ipyleaflet method to detect when a zoom is performed\n",
    "m.observe(on_zoom_change, names='zoom')\n",
    "\n",
    "# 6: add the iris layer and display the map\n",
    "m.add(iris_layer) \n",
    "display(m)"
   ]
  },
  {
   "cell_type": "markdown",
   "id": "7047c4a6",
   "metadata": {},
   "source": []
  }
 ],
 "metadata": {
  "kernelspec": {
   "display_name": ".venv",
   "language": "python",
   "name": "python3"
  },
  "language_info": {
   "codemirror_mode": {
    "name": "ipython",
    "version": 3
   },
   "file_extension": ".py",
   "mimetype": "text/x-python",
   "name": "python",
   "nbconvert_exporter": "python",
   "pygments_lexer": "ipython3",
   "version": "3.13.3"
  }
 },
 "nbformat": 4,
 "nbformat_minor": 5
}
